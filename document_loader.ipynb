{
 "cells": [
  {
   "cell_type": "code",
   "execution_count": 3,
   "id": "be0cdc6e",
   "metadata": {},
   "outputs": [
    {
     "name": "stdout",
     "output_type": "stream",
     "text": [
      "Whispers of the Morning\n",
      "\n",
      "The sun peeks gently through the trees,\n",
      "A golden hush upon the breeze.\n",
      "Birdsong spills from every height,\n",
      "Welcoming the waking light.\n",
      "\n",
      "The dewdrops dance on blades of green,\n",
      "A fleeting world, fresh and serene.\n",
      "Shadows stretch and yawn with grace,\n",
      "As warmth caresses Earth’s still face.\n",
      "\n",
      "The flowers turn their heads to see\n",
      "What wonders morning’s light might be.\n",
      "A quiet hum, a world anew,\n",
      "Bathed in skies of softest blue.\n",
      "\n",
      "Footsteps stir the forest floor,\n",
      "As day begins to open door.\n",
      "Dreams dissolve in morning’s gleam,\n",
      "Softly fading like a dream.\n",
      "\n",
      "Each breath a note in dawn's sweet song,\n",
      "A moment short, yet deep and strong.\n",
      "In silence deep, the heart can hear—\n",
      "That morning brings all life near.\n"
     ]
    }
   ],
   "source": [
    "from langchain_community.document_loaders import TextLoader\n",
    "from langchain_openai import ChatOpenAI\n",
    "from langchain_core.prompts import PromptTemplate\n",
    "from langchain_core.output_parsers import StrOutputParser\n",
    "\n",
    "parser=StrOutputParser()\n",
    "\n",
    "# model=ChatOpenAI(\n",
    "#     model=\"\",\n",
    "#     base_url=\"\",\n",
    "#     api_key=\"\"\n",
    "# )\n",
    "\n",
    "loader=TextLoader(\"Whispers of the Morning.txt\",encoding=\"utf-8\")\n",
    "\n",
    "docs=loader.load()\n",
    "\n",
    "print(docs[0].page_content)"
   ]
  },
  {
   "cell_type": "markdown",
   "id": "af564dba",
   "metadata": {},
   "source": [
    "TEXT LOADER"
   ]
  },
  {
   "cell_type": "code",
   "execution_count": 4,
   "id": "0f6a7b2e",
   "metadata": {},
   "outputs": [
    {
     "name": "stdout",
     "output_type": "stream",
     "text": [
      "<class 'list'>\n",
      "1\n",
      "Whispers of the Morning\n",
      "\n",
      "The sun peeks gently through the trees,\n",
      "A golden hush upon the breeze.\n",
      "Birdsong spills from every height,\n",
      "Welcoming the waking light.\n",
      "\n",
      "The dewdrops dance on blades of green,\n",
      "A fleeting world, fresh and serene.\n",
      "Shadows stretch and yawn with grace,\n",
      "As warmth caresses Earth’s still face.\n",
      "\n",
      "The flowers turn their heads to see\n",
      "What wonders morning’s light might be.\n",
      "A quiet hum, a world anew,\n",
      "Bathed in skies of softest blue.\n",
      "\n",
      "Footsteps stir the forest floor,\n",
      "As day begins to open door.\n",
      "Dreams dissolve in morning’s gleam,\n",
      "Softly fading like a dream.\n",
      "\n",
      "Each breath a note in dawn's sweet song,\n",
      "A moment short, yet deep and strong.\n",
      "In silence deep, the heart can hear—\n",
      "That morning brings all life near.\n",
      "{'source': 'Whispers of the Morning.txt'}\n",
      "Here's a summary of the poem \"Whispers of the Morning\":\n",
      "\n",
      "“Whispers of the Morning” is a peaceful and evocative depiction of the beginning of the day. It celebrates the gentle arrival of sunlight and the revitalizing effects of dawn, filled with the sounds of birdsong and the beauty of nature. The poem captures a feeling of quiet wonder and renewal, emphasizing the simple joy of a fresh start and the inherent life that blossoms with the morning light.\n"
     ]
    }
   ],
   "source": [
    "from langchain_community.document_loaders import TextLoader\n",
    "from langchain_openai import ChatOpenAI\n",
    "from langchain_core.output_parsers import StrOutputParser\n",
    "from langchain_core.prompts import PromptTemplate\n",
    "\n",
    "\n",
    "model=ChatOpenAI(\n",
    "    model='ai/gemma3:1B-Q4_K_M',\n",
    "    base_url=\"http://localhost:12434/engines/v1\",\n",
    "    api_key=\"docker\"\n",
    ")\n",
    "\n",
    "prompt = PromptTemplate(\n",
    "    template='Write a summary for the following poem - \\n {poem}',\n",
    "    input_variables=['poem']\n",
    ")\n",
    "\n",
    "parser = StrOutputParser()\n",
    "\n",
    "loader = TextLoader('Whispers of the Morning.txt', encoding='utf-8')\n",
    "\n",
    "docs = loader.load()\n",
    "\n",
    "print(type(docs))\n",
    "\n",
    "print(len(docs))\n",
    "\n",
    "print(docs[0].page_content)\n",
    "\n",
    "print(docs[0].metadata)\n",
    "\n",
    "chain = prompt | model | parser\n",
    "\n",
    "print(chain.invoke({'poem':docs[0].page_content}))\n"
   ]
  },
  {
   "cell_type": "code",
   "execution_count": null,
   "id": "a230b988",
   "metadata": {},
   "outputs": [],
   "source": []
  }
 ],
 "metadata": {
  "kernelspec": {
   "display_name": "gen_venv",
   "language": "python",
   "name": "python3"
  },
  "language_info": {
   "codemirror_mode": {
    "name": "ipython",
    "version": 3
   },
   "file_extension": ".py",
   "mimetype": "text/x-python",
   "name": "python",
   "nbconvert_exporter": "python",
   "pygments_lexer": "ipython3",
   "version": "3.12.4"
  }
 },
 "nbformat": 4,
 "nbformat_minor": 5
}
